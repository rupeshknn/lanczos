{
 "cells": [
  {
   "cell_type": "code",
   "execution_count": 1,
   "id": "5d406f20",
   "metadata": {},
   "outputs": [],
   "source": [
    "import numpy as np\n",
    "from scipy.linalg import eigh_tridiagonal\n"
   ]
  },
  {
   "cell_type": "code",
   "execution_count": 2,
   "id": "714eac23",
   "metadata": {},
   "outputs": [],
   "source": [
    "def constr_tridiag(d,od):\n",
    "    '''\n",
    "    Constructs (ndim,ndim) symetric tridiagonal array given the diagonal and off-diagonal elements\n",
    "\n",
    "    d : ndarray, shape (ndim,)\n",
    "    The diagonal elements of the array.\n",
    "    e : ndarray, shape (ndim-1,)\n",
    "    The off-diagonal elements of the array.\n",
    "    \n",
    "    returns ndarray, shape (ndim,ndim)\n",
    "    '''\n",
    "    \n",
    "    n = d.size\n",
    "    tri = np.zeros((n,n))\n",
    "    for idx1 in range(n-1):\n",
    "        tri[idx1,idx1] = d[idx1]\n",
    "        tri[idx1+1,idx1] = od[idx1]\n",
    "        tri[idx1,idx1+1] = od[idx1]\n",
    "    tri[-1,-1] = d[-1]\n",
    "    return tri"
   ]
  },
  {
   "cell_type": "code",
   "execution_count": 8,
   "id": "2aba60e9",
   "metadata": {},
   "outputs": [],
   "source": [
    "def lanczos_eig(A,v0,m):\n",
    "    '''\n",
    "    Finds the lowest m eigen values and eigen vectors of a symmetric array\n",
    "\n",
    "    A : ndarray, shape (ndim, ndim)\n",
    "    Array to diagnolize.\n",
    "    v0 : ndarray, shape (ndim,)\n",
    "    A vector to start the lanczos iteration\n",
    "    m : scalar\n",
    "    the dim of the krylov subspace\n",
    "    \n",
    "    returns \n",
    "    E : ndarray, shape (m,) Eigenvalues\n",
    "    W : ndarray, shape (ndim, m) Eigenvectors\n",
    "    '''\n",
    "\n",
    "    n = v0.size\n",
    "    Q = np.zeros((m,n))\n",
    "    \n",
    "    v = np.zeros_like(v0)\n",
    "    r = np.zeros_like(v0) # v1\n",
    "    \n",
    "    b = np.zeros((m,))\n",
    "    a = np.zeros((m,))\n",
    "    \n",
    "    v0 = v0 / np.linalg.norm(v0)\n",
    "    Q[0,:] = v0\n",
    "    \n",
    "    r = A @ v0\n",
    "    a[0] = v0 @ r\n",
    "    r = r - a[0]*v0\n",
    "    b[0] = np.linalg.norm(r)\n",
    "    \n",
    "    error = 1e-16\n",
    "\n",
    "    for i in range(1,m,1):\n",
    "        v = Q[i-1,:]\n",
    "\n",
    "        Q[i,:] = r / b[i-1]\n",
    "\n",
    "        r = A @ Q[i,:] # |n>\n",
    "\n",
    "        r = r - b[i-1]*v\n",
    "\n",
    "        a[i] = (Q[i,:] @ r) # real?\n",
    "        r = r - a[i]*Q[i,:]\n",
    "\n",
    "        b[i] = np.linalg.norm(r)\n",
    "        \n",
    "        if b[i] < error:\n",
    "            m = i\n",
    "            print('smaller space found',m)\n",
    "            break\n",
    "\n",
    "    E,V = eigh_tridiagonal(a[:m],b[:m-1])\n",
    "    Q = Q[:m]\n",
    "    W = (Q.T @ V)\n",
    "#     tri = constr_tridiag(a[:m],b[:m-1])\n",
    "    return E, W\n"
   ]
  },
  {
   "cell_type": "code",
   "execution_count": 19,
   "id": "79e2f499",
   "metadata": {},
   "outputs": [
    {
     "name": "stdout",
     "output_type": "stream",
     "text": [
      "True 0.203125\n"
     ]
    }
   ],
   "source": [
    "size = 8\n",
    "perc0 = 0.2 # perccentage of non zero\n",
    "mat = np.zeros(size*size)\n",
    "mat[np.random.randint(0,size*size,size=int(size*size*perc0/1.5))] = 2*np.random.rand(int(size*size*perc0/1.5))-1\n",
    "mat = mat.reshape(size,size)\n",
    "mat = mat + mat.T # make symetric\n",
    "\n",
    "x = np.zeros(size); x[0]=1\n",
    "print(np.allclose(mat,mat.T),np.mean(mat != 0))\n",
    "# mat"
   ]
  },
  {
   "cell_type": "code",
   "execution_count": 20,
   "id": "243d4e6c",
   "metadata": {},
   "outputs": [
    {
     "data": {
      "text/plain": [
       "array([-0.67982572,  0.        ,  0.58644194,  0.        ,  0.09717863,\n",
       "       -0.42951037,  0.        ,  0.        ])"
      ]
     },
     "execution_count": 20,
     "metadata": {},
     "output_type": "execute_result"
    }
   ],
   "source": [
    "E, W = lanczos_eig(mat,x,7)\n",
    "W[:,0]"
   ]
  },
  {
   "cell_type": "code",
   "execution_count": 22,
   "id": "ffdfe85b",
   "metadata": {},
   "outputs": [
    {
     "data": {
      "text/plain": [
       "array([ 0.67982572,  0.        , -0.58644194,  0.        , -0.09717863,\n",
       "        0.42951037,  0.        ,  0.        ])"
      ]
     },
     "execution_count": 22,
     "metadata": {},
     "output_type": "execute_result"
    }
   ],
   "source": [
    "np.linalg.eigh(mat)[1][:,0]"
   ]
  }
 ],
 "metadata": {
  "kernelspec": {
   "display_name": "Python 3 (ipykernel)",
   "language": "python",
   "name": "python3"
  },
  "language_info": {
   "codemirror_mode": {
    "name": "ipython",
    "version": 3
   },
   "file_extension": ".py",
   "mimetype": "text/x-python",
   "name": "python",
   "nbconvert_exporter": "python",
   "pygments_lexer": "ipython3",
   "version": "3.9.9"
  }
 },
 "nbformat": 4,
 "nbformat_minor": 5
}

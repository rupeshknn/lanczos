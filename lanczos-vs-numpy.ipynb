{
 "cells": [
  {
   "cell_type": "code",
   "execution_count": null,
   "id": "5d406f20",
   "metadata": {},
   "outputs": [],
   "source": [
    "import numpy as np\n",
    "from scipy.linalg import eigh_tridiagonal\n",
    "from numpy.random import randint, rand\n",
    "from matplotlib import pyplot as plt\n",
    "import time\n",
    "\n",
    "from lanczos_dense import lanczos_eig"
   ]
  },
  {
   "cell_type": "code",
   "execution_count": null,
   "id": "5c98abb0-accc-4e29-87cc-3cd6898b64e6",
   "metadata": {},
   "outputs": [],
   "source": [
    "def rand_herm(size,sparsity):\n",
    "    mat = np.zeros(size*size)\n",
    "    nonzero_num = int(size*size*sparsity/2)\n",
    "    nonzero_idx = randint(0, size**2, size=nonzero_num)\n",
    "    mat[nonzero_idx] = rand(nonzero_num)\n",
    "    mat = mat.reshape(size, size)\n",
    "    mat = mat + mat.T\n",
    "    return mat"
   ]
  },
  {
   "cell_type": "code",
   "execution_count": null,
   "id": "c67e0c3e",
   "metadata": {},
   "outputs": [],
   "source": [
    "def timeon(size, sparsity, k):\n",
    "    mat = rand_herm(size, sparsity)\n",
    "    \n",
    "    t0 = time.time()\n",
    "    \n",
    "    x = rand(size)\n",
    "    _, W1 = lanczos_eig(mat,x,k)\n",
    "    eiglanc = W1[:,0]\n",
    "    \n",
    "    t1 = time.time()\n",
    "    \n",
    "    _, W2 = np.linalg.eigh(mat)\n",
    "    eigres = W2[:,0]\n",
    "\n",
    "    t2 = time.time()\n",
    "    \n",
    "    fidelity = np.abs(eigres @ eiglanc)\n",
    "    \n",
    "    tlanc = t1 - t0\n",
    "    teigh = t2 - t1\n",
    "    \n",
    "    return tlanc, teigh, (teigh - tlanc) > 0, fidelity\n",
    "    "
   ]
  },
  {
   "cell_type": "code",
   "execution_count": null,
   "id": "19414f22",
   "metadata": {},
   "outputs": [],
   "source": [
    "def avg_run(repeats, size, sparsity, k):\n",
    "    tlanc_list = []\n",
    "    teigh_list = []\n",
    "    fidelity_list = []\n",
    "    for idx in range(repeats):\n",
    "        tlanc, teigh, _ , fidelity = timeon(size, sparsity, k)\n",
    "        fidelity_list.append(fidelity)\n",
    "        tlanc_list.append(tlanc)\n",
    "        teigh_list.append(teigh)\n",
    "    \n",
    "    return np.mean(tlanc_list), np.mean(teigh_list), np.mean(fidelity_list)\n",
    "    "
   ]
  },
  {
   "cell_type": "code",
   "execution_count": null,
   "id": "c2e0921d",
   "metadata": {},
   "outputs": [],
   "source": [
    "# tlanc_avg, teigh_avg, fidelity_avg = avg_run(100, 1000, 0.2, 40)"
   ]
  },
  {
   "cell_type": "code",
   "execution_count": null,
   "id": "41c43fba-a10d-4bc7-b253-edf89b60b43a",
   "metadata": {},
   "outputs": [],
   "source": [
    "runtime_vals = []\n",
    "for size_idx in range(300,1500,20):\n",
    "    runtime_vals.append(avg_run(100, size_idx, 0.3, min(50+int(10*size_idx/1500),size_idx//10)))"
   ]
  },
  {
   "cell_type": "code",
   "execution_count": null,
   "id": "4828b375-a351-4a12-85a8-cb68b41821e3",
   "metadata": {},
   "outputs": [],
   "source": [
    "# np.save('lanc_comp2.npy', np.array(runtime_vals))\n",
    "runtime_vals = np.load('simdata/lanc_comp2.npy')"
   ]
  },
  {
   "cell_type": "code",
   "execution_count": null,
   "id": "d227fb5a",
   "metadata": {},
   "outputs": [],
   "source": [
    "#qiskit colour palet\n",
    "darkpurple = (48/255, 19/255, 94/255)\n",
    "purple = (105/255, 40/255, 195/255)\n",
    "background2 = (242/255, 243/255, 248/255)\n",
    "background1 = (221/255, 225/255, 230/255)"
   ]
  },
  {
   "cell_type": "code",
   "execution_count": null,
   "id": "697df108-7538-482e-a6fa-c21fb18879bb",
   "metadata": {},
   "outputs": [],
   "source": [
    "plt.rcParams['axes.facecolor']=background2\n",
    "\n",
    "plt.figure(figsize=(21,9),dpi=300,facecolor=background1)\n",
    "plt.plot(range(300,1500,20), np.array(runtime_vals)[:,0],'-o', markersize=1, linewidth=3,label='lanczos $|\\ell \\\\rangle$',color=purple)\n",
    "plt.plot(range(300,1500,20), np.array(runtime_vals)[:,1],'-o', markersize=1, linewidth=3,label='linalg.eigh $|e \\\\rangle$',color=darkpurple)\n",
    "plt.xlabel('Array Dimension',fontsize=15)\n",
    "plt.ylabel('Run Time',fontsize=15)\n",
    "plt.title('$ \\langle Run Time \\\\rangle_{100} $ vs Array Dimension',fontsize=20)\n",
    "plt.legend(fontsize=15)\n",
    "plt.tick_params(axis='both', which='major', labelsize=12)\n",
    "plt.savefig('lanczos-vs-numpy-eigh.png',bbox_inches='tight')"
   ]
  },
  {
   "cell_type": "code",
   "execution_count": null,
   "id": "4555661a-e6ad-4034-b833-9f2adcf2eb82",
   "metadata": {},
   "outputs": [],
   "source": [
    "plt.rcParams['axes.facecolor']=background2\n",
    "plt.figure(figsize=(21,9),dpi=300,facecolor=background1)\n",
    "\n",
    "plt.plot(range(300,1500,20), np.array(runtime_vals)[:,2], color = purple)\n",
    "plt.xlabel('Array Dimension')\n",
    "plt.ylabel('Fidelity $\\langle e | \\ell \\\\rangle$')"
   ]
  }
 ],
 "metadata": {
  "kernelspec": {
   "display_name": "Python 3 (ipykernel)",
   "language": "python",
   "name": "python3"
  },
  "language_info": {
   "codemirror_mode": {
    "name": "ipython",
    "version": 3
   },
   "file_extension": ".py",
   "mimetype": "text/x-python",
   "name": "python",
   "nbconvert_exporter": "python",
   "pygments_lexer": "ipython3",
   "version": "3.9.10"
  }
 },
 "nbformat": 4,
 "nbformat_minor": 5
}
